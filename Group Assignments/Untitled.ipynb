{
 "cells": [
  {
   "cell_type": "markdown",
   "metadata": {},
   "source": [
    "# Project Proposal\n",
    "How does the transit system devepment drives population migration from New York City to regional suburbs in Greater New York area?\n",
    "\n",
    "# An explanation of why it is important to you, why it matters to others, and what is at stake:\n",
    "The [recent trend](https://www.brookings.edu/blog/the-avenue/2019/05/24/big-city-growth-stalls-further-as-the-suburbs-make-a-comeback/) of population decline in primary cities and suburban population growth in American Snow belt (Northeast and Mid-West), and the expansive bus, train, and ferry services in [\"transit desert\" (where residents need to walk at least 15 minutes to the nearest subway/rail/ferry station)](https://www.cityandstateny.com/articles/policy/policy/how-rescue-new-yorkers-transit-deserts.html) led us to consider the possible relationship between the two. \n",
    "\n",
    "Despite expansive train/subway/ferry networks, the New York City and its neighboring boroughs, many neighborhoods are still considered not as accessible. However, due to the increasing housing price in Manhattan and job growth in Manhattan's neighboring boroughs, the city population slowly migrates to the \"transit desert\" neighborhoods. The rezoning of the neighboring boroughs that allows higher density in early 2000s filled up the land near the train tracks first, job growth and demand for affordable housing continue to push development outwards.\n",
    "\n",
    "\n",
    "# Geographic Area\n",
    "We'd love to work on Greater New York region because we'd like to explore the relationship between population migration from central city to neighboring regions and the existence of subway/train/ferry stations. \n",
    "\n",
    "# Data Source\n",
    " \n",
    " \n",
    "# Intended analysis and resulting visualizations\n",
    "In this project, we hope to map out the population migration from city center to the \"transit desert\" in remote areas in Greater New York region, and how such shift expands the city boundary, from an island to slowly incorporating surrounding regions into its economic development. We hope to showcase the impacts of suburbanization on city center and previous \"transit desert\" areas, in terms of land use and housing costs **(Feel free to delete this...not sure at this point if we are committed to so many topics)**\n",
    "We'd love to develop a map shows transit stations (train/subway/ferry) in neighborhoods/regions that are considered as \"transit desert\", and population shift trend in those areas and in New York City. \n",
    "# Insights to be gained\n",
    "Despite our desire to gain coding and research skills during our research project, we also hope to understand to transform data into a visual communication tool. In addition, we hope to understand the relationship between population migration and existing tranist facilities surrounding the New York City. "
   ]
  },
  {
   "cell_type": "code",
   "execution_count": null,
   "metadata": {},
   "outputs": [],
   "source": []
  },
  {
   "cell_type": "code",
   "execution_count": null,
   "metadata": {},
   "outputs": [],
   "source": []
  }
 ],
 "metadata": {
  "kernelspec": {
   "display_name": "Python 3",
   "language": "python",
   "name": "python3"
  },
  "language_info": {
   "codemirror_mode": {
    "name": "ipython",
    "version": 3
   },
   "file_extension": ".py",
   "mimetype": "text/x-python",
   "name": "python",
   "nbconvert_exporter": "python",
   "pygments_lexer": "ipython3",
   "version": "3.8.5"
  },
  "toc": {
   "base_numbering": 1,
   "nav_menu": {},
   "number_sections": true,
   "sideBar": true,
   "skip_h1_title": false,
   "title_cell": "Table of Contents",
   "title_sidebar": "Contents",
   "toc_cell": false,
   "toc_position": {},
   "toc_section_display": true,
   "toc_window_display": false
  }
 },
 "nbformat": 4,
 "nbformat_minor": 4
}
